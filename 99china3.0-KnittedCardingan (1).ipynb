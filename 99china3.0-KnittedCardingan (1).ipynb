{
 "cells": [
  {
   "cell_type": "code",
   "execution_count": 1,
   "metadata": {},
   "outputs": [],
   "source": [
    "from selenium import webdriver\n",
    "from selenium.webdriver.common.keys import Keys\n",
    "from selenium.webdriver.chrome.options import Options \n",
    "import pandas as pd\n",
    "import bs4\n",
    "import requests\n",
    "import re\n",
    "import numpy as np"
   ]
  },
  {
   "cell_type": "code",
   "execution_count": 2,
   "metadata": {},
   "outputs": [],
   "source": [
    "chrome_options = Options()  \n",
    "chrome_options.add_argument(\"--headless\") \n",
    "chrome_path=r\"C:\\Users\\edward.chong\\Desktop\\chromedriver\"\n",
    "driver=webdriver.Chrome(chrome_path,chrome_options=chrome_options)"
   ]
  },
  {
   "cell_type": "code",
   "execution_count": null,
   "metadata": {
    "scrolled": true
   },
   "outputs": [],
   "source": [
    "driver.get('http://www.99chinaship.com/?go=setLanguage&lang=en')\n",
    "records=[]\n",
    "for i in range(1,101):\n",
    "    driver.get('http://www.99chinaship.com/?go=shop&action=list&tid=88&page={}'.format(i))\n",
    "    details_containers=driver.find_elements_by_css_selector('div.summary>h1>a')\n",
    "    for details_container in details_containers:\n",
    "        details_container.click()\n",
    "        current_window = driver.current_window_handle\n",
    "        new_window = [window for window in driver.window_handles if window != current_window][0]\n",
    "        driver.switch_to.window(new_window)\n",
    "\n",
    "        html=driver.page_source\n",
    "        soup=bs4.BeautifulSoup(html,'lxml')\n",
    "        sizes_list=[]\n",
    "        colors_list=[]\n",
    "        alt_images=[]\n",
    "            \n",
    "        if soup.find('h1',class_='ng-binding') != None:\n",
    "            product_name=soup.find('h1',class_='ng-binding').text.strip()\n",
    "            price_RM=soup.find('span',{ \"id\" : \"gsItemPrice\" }).text.strip()\n",
    "            price_CNY=soup.find('span',class_='red price_cny ng-binding').text.strip()\n",
    "            shipping_RM=soup.find('span',{ \"id\" : \"post_fee\" }).text.strip()\n",
    "            shipping_CNY=soup.find('span',class_='red ng-binding').text.strip()\n",
    "            image_url=soup.find('div',class_='jqzoom')\n",
    "            image_srcs = [img['src'] for img in image_url.select('img[src]')]\n",
    "            alt_image_container=soup.find('div',{ \"id\" : \"spec-list\" })\n",
    "            alt_image_urls=alt_image_container.find_all('li')\n",
    "            for alt_image_url in alt_image_urls:\n",
    "                alt_images.append(alt_image_url('img')[0]['src'])\n",
    "            sizes_container=soup.find_all('a', attrs={'class':'choose-sku' , 'id':re.compile('b_20509_')}) \n",
    "            for sizes in sizes_container:\n",
    "                sizes_list.append(sizes.text)\n",
    "            colors_container1=soup.find_all('a',attrs={'class':'choose-skuimg' ,'id':re.compile('b_1627207_')})\n",
    "            for colors1 in colors_container1:\n",
    "                colors_list.append(colors1.img['alt'] )\n",
    "            colors_container2=soup.find_all('a',attrs={'class':'choose-sku' ,'id':re.compile('b_1627207_')})\n",
    "            for colors2 in colors_container2:\n",
    "                colors_list.append(colors2.text)\n",
    "            colors_list=list(filter(None,colors_list))\n",
    "            sizes_list=list(filter(None,sizes_list))\n",
    "            page_num=i\n",
    "            if soup.find('div',class_='col-md-12 goods-desc')!= None:\n",
    "                descriptions_container=soup.find('div',class_='col-md-12 goods-desc')\n",
    "                descriptions=descriptions_container.find_all('img')\n",
    "                for description in descriptions:\n",
    "                    if description.has_attr('data-original'):\n",
    "                        description['src']=description['data-original']  \n",
    "                descriptions=\" \".join(str(x) for x in descriptions)\n",
    "                descriptions=re.sub(r'width=\"(.*?)\\\"' ,'',descriptions)\n",
    "            else:\n",
    "                descriptions=\"\"\n",
    "                \n",
    "            records.append((product_name,sizes_list,colors_list,price_RM,price_CNY,shipping_RM,shipping_CNY,image_srcs[0],alt_images,descriptions,page_num))\n",
    "        \n",
    "            driver.close()\n",
    "            driver.switch_to.window(current_window)\n",
    "        else:\n",
    "            driver.close()\n",
    "            driver.switch_to.window(current_window)"
   ]
  },
  {
   "cell_type": "code",
   "execution_count": null,
   "metadata": {},
   "outputs": [],
   "source": [
    "df1=pd.DataFrame(records,columns=['Product Name','Sizes','Colors','Price(RM)','Price(CNY)','Shipping(RM)','Shipping(CNY)','Base Image','Alt Images','Description','Page #'])\n",
    "df1['Product Name'].replace('', np.nan, inplace=True)\n",
    "df1.dropna(subset=['Product Name'], inplace=True)"
   ]
  },
  {
   "cell_type": "code",
   "execution_count": null,
   "metadata": {},
   "outputs": [],
   "source": [
    "df2=pd.DataFrame(columns=['Seller_id','model','sku','description:name:English','description:meta_title:English','description:description:English','quantity','stock_status','stock_status_name','image','productimages:image','shipping','price','tax_class','weight','weight_class','weight_class_name','category'])"
   ]
  },
  {
   "cell_type": "code",
   "execution_count": null,
   "metadata": {},
   "outputs": [],
   "source": [
    "df2['description:name:English']=df1['Product Name']\n",
    "df2['description:description:English']=df1['Description']\n",
    "df2['model']=9940001+df2.index\n",
    "df2['description:meta_title:English']=df2['description:name:English']\n",
    "df2['sku']=df2['model']\n",
    "df2['stock_status']=7\n",
    "df2['stock_status_name']='In Stock'\n",
    "df2['quantity']=10\n",
    "df2['shipping']=1\n",
    "df2['tax_class']=0\n",
    "df2['weight']=0.5\n",
    "df2['weight_class']=1\n",
    "df2['weight_class_name']='Kilogram'\n",
    "df2['category']=\"Fashion/Women's Fashion/Top/Blouse & Shirts\"\n",
    "df2['Seller_id']=35\n",
    "df2['price']=df1['Price(RM)'].astype(float)*1.3\n",
    "df2['price']=df2['price'].round(2)\n",
    "df1['quantity']=df2['quantity']\n",
    "df1['sku']=df2['sku']\n",
    "df1['weight']=df2['weight']\n",
    "df1['Adj_price']=df2['price']"
   ]
  },
  {
   "cell_type": "code",
   "execution_count": null,
   "metadata": {},
   "outputs": [],
   "source": [
    "df1.Colors=df1.Colors.apply(lambda x: [s.replace(',','') for s in x])"
   ]
  },
  {
   "cell_type": "code",
   "execution_count": null,
   "metadata": {},
   "outputs": [],
   "source": [
    "df2['image']=df1['Base Image'].fillna('')\n",
    "df2['productimages:image']=df1['Alt Images'].fillna('')\n",
    "\n",
    "def image_format(x):\n",
    "    list1=re.split(r'/',x)\n",
    "    \n",
    "    if len(list1)>0:\n",
    "        image_link='wkseller/35/'+ list1[-1][:-4]+'.jpg'\n",
    "    else:\n",
    "        image_link=''\n",
    "    \n",
    "    return image_link\n",
    "\n",
    "df2['image']=df2['image'].apply(image_format)"
   ]
  },
  {
   "cell_type": "code",
   "execution_count": null,
   "metadata": {
    "scrolled": true
   },
   "outputs": [],
   "source": [
    "df1['color_filter']=df1.Colors.apply(lambda x:filter(None,['Color,'+s for s in x])).apply(lambda x:'|'.join(x))\n",
    "df1['size_filter']=df1.Sizes.apply(lambda x:filter(None,['Size,'+s for s in x])).apply(lambda x: '|'.join(x))"
   ]
  },
  {
   "cell_type": "code",
   "execution_count": null,
   "metadata": {},
   "outputs": [],
   "source": [
    "conditions = [\n",
    "    (df1['color_filter'] != '') & (df1['size_filter'] != ''),\n",
    "    (df1['color_filter'] != '') & (df1['size_filter'] == ''),\n",
    "    (df1['color_filter'] == '') & (df1['size_filter'] != ''),\n",
    "    (df1['color_filter'] == '') & (df1['size_filter'] == '')]\n",
    "choices = ['Color + Size', 'Color', 'Size','']\n",
    "df2['related:option'] = np.select(conditions, choices, default='')"
   ]
  },
  {
   "cell_type": "code",
   "execution_count": null,
   "metadata": {},
   "outputs": [],
   "source": [
    "conditions1 = [\n",
    "    (df2['related:option'] == 'Color + Size') | (df2['related:option'] == 'Color'),\n",
    "    (df2['related:option'] == 'Size'),\n",
    "    (df2['related:option'] == '')]\n",
    "c1=df1[['color_filter','size_filter']].apply(lambda x: '|'.join(x),axis=1)\n",
    "c2=df1[['color_filter','size_filter']].apply(lambda x: '|'.join(x)[1:],axis=1)\n",
    "c3=''\n",
    "choices1 = [c1,c2,c3]\n",
    "df2['filter:filter'] = np.select(conditions1, choices1, default='')"
   ]
  },
  {
   "cell_type": "code",
   "execution_count": null,
   "metadata": {},
   "outputs": [],
   "source": [
    "df2['description:description:English']=df2['description:description:English'].apply(lambda x: x[:32700])"
   ]
  },
  {
   "cell_type": "code",
   "execution_count": null,
   "metadata": {},
   "outputs": [],
   "source": [
    "def related_value(x):\n",
    "    list1=list(x)\n",
    "    \n",
    "    if (list1[0]==[] and list1[1]==[]):\n",
    "        related_values=''\n",
    "    elif (list1[0]!=[] and list1[1]==[]):\n",
    "        list2=list1[0]\n",
    "        list2=[','.join([s, str(list1[2]),str(list1[3])+'-'+str(list2.index(s)+1),str(list1[4]),str(list1[5])]) for s in list2]\n",
    "        related_values='|'.join(list2)\n",
    "    elif (list1[0]==[] and list1[1]!=[]):\n",
    "        list2=list1[1]\n",
    "        list2=[','.join([s, str(list1[2]),str(list1[3])+'-'+str(list2.index(s)+1),str(list1[4]),str(list1[5])]) for s in list2]\n",
    "        related_values='|'.join(list2)\n",
    "    else: \n",
    "        list2=[','.join([s1, s2]) for s1 in list1[0] for s2 in list1[1]]\n",
    "        list2=[','.join([s, str(list1[2]),str(list1[3])+'-'+str(list2.index(s)+1),str(list1[4]),str(list1[5])]) for s in list2]\n",
    "        related_values='|'.join(list2)\n",
    "    \n",
    "    return related_values\n",
    "\n",
    "df2['related:value']=df1[['Colors','Sizes','quantity','sku','weight','Adj_price']].apply(related_value,axis=1)"
   ]
  },
  {
   "cell_type": "code",
   "execution_count": null,
   "metadata": {},
   "outputs": [],
   "source": [
    "df2=pd.DataFrame({col:np.repeat(df2[col].values, df2['productimages:image'].str.len())for col in df2.columns.difference(['productimages:image'])}).assign(**{'productimages:image':np.concatenate(df2['productimages:image'].values)})[df2.columns.tolist()]"
   ]
  },
  {
   "cell_type": "code",
   "execution_count": null,
   "metadata": {},
   "outputs": [],
   "source": [
    "df2['productimages:image']=df2['productimages:image'].apply(image_format)"
   ]
  },
  {
   "cell_type": "code",
   "execution_count": null,
   "metadata": {},
   "outputs": [],
   "source": [
    "df2.to_csv('KnittedCardingan.csv',encoding='utf-8-sig',index=False)\n",
    "driver.quit()"
   ]
  },
  {
   "cell_type": "code",
   "execution_count": null,
   "metadata": {},
   "outputs": [],
   "source": [
    "df3=pd.DataFrame(columns=['Link','folder path','image name','seller_id'])\n",
    "list_of_lists=df1['Alt Images'].tolist()\n",
    "list_=df1['Base Image'].tolist()\n",
    "flattened_list = [y for x in list_of_lists for y in x]\n",
    "Combined_links=set(flattened_list+list_)\n",
    "edited_list1=[]\n",
    "edited_list2=[]\n",
    "for link in Combined_links:\n",
    "    if link[:1]!='h':\n",
    "        link='https:'+link\n",
    "    else:\n",
    "        link=link\n",
    "    edited_list1.append(link) \n",
    "df3['Link']=edited_list1\n",
    "df3['seller_id']=35\n",
    "df3['folder path']='/'\n",
    "for link in Combined_links:\n",
    "    seperated_link=link.split('/')\n",
    "    image_name=seperated_link[-1][:-4]\n",
    "    edited_list2.append(image_name)\n",
    "df3['image name']=edited_list2\n",
    "df3.to_csv('ImageUpload2.csv',encoding='utf-8-sig',index=False)"
   ]
  },
  {
   "cell_type": "code",
   "execution_count": null,
   "metadata": {},
   "outputs": [],
   "source": [
    "for element in edited_list1:\n",
    "    url = element\n",
    "    filename = url.split('/')[-1][:-4]\n",
    "    filepath='C:/Users/edward.chong/Desktop/ScrapImg/KnittedCardingan'\n",
    "    r = requests.get(url, allow_redirects=True)\n",
    "    open(filepath+'/'+filename+'.jpg', 'wb').write(r.content)"
   ]
  },
  {
   "cell_type": "code",
   "execution_count": null,
   "metadata": {},
   "outputs": [],
   "source": [
    "df4=pd.DataFrame(columns=['option_value_id','option_id','sort-order','name(en-gb)'])\n",
    "df4['name(en-gb)']=df2['filter:filter'].apply(lambda x: x.replace(',',':')).apply(lambda x: x.replace('|',',')).apply(lambda x: x.split(','))\n",
    "df4=pd.DataFrame({col:np.repeat(df4[col].values, df4['name(en-gb)'].str.len())for col in df4.columns.difference(['name(en-gb)'])}).assign(**{'name(en-gb)':np.concatenate(df4['name(en-gb)'].values)})[df4.columns.tolist()]\n",
    "df4['option_id']=df4['name(en-gb)'].apply(lambda x: x[:5])\n",
    "df4=df4.drop_duplicates('name(en-gb)')\n",
    "id_list=[]\n",
    "for id in df4['option_id']:\n",
    "    if id=='Color':\n",
    "        id=2\n",
    "    elif id=='Size:':\n",
    "        id=5\n",
    "    else:\n",
    "        id=''\n",
    "    id_list.append(id)\n",
    "df4['name(en-gb)']=df4['name(en-gb)'].apply(lambda x: x.split(':')[-1])\n",
    "df4['option_id']=id_list\n",
    "df4['sort-order']=0\n",
    "df4['option_value_id']=''\n",
    "df4.to_csv('Variant2.csv',encoding='utf-8-sig',index=False)"
   ]
  },
  {
   "cell_type": "code",
   "execution_count": null,
   "metadata": {},
   "outputs": [],
   "source": [
    "df1.to_csv('status2.csv',encoding='utf-8-sig',index=False)"
   ]
  }
 ],
 "metadata": {
  "kernelspec": {
   "display_name": "Python 3",
   "language": "python",
   "name": "python3"
  },
  "language_info": {
   "codemirror_mode": {
    "name": "ipython",
    "version": 3
   },
   "file_extension": ".py",
   "mimetype": "text/x-python",
   "name": "python",
   "nbconvert_exporter": "python",
   "pygments_lexer": "ipython3",
   "version": "3.6.6"
  }
 },
 "nbformat": 4,
 "nbformat_minor": 2
}
